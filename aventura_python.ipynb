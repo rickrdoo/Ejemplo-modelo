{
  "nbformat": 4,
  "nbformat_minor": 0,
  "metadata": {
    "colab": {
      "provenance": [],
      "authorship_tag": "ABX9TyP6AfoCnTFFoGnDVzWOGsxx",
      "include_colab_link": true
    },
    "kernelspec": {
      "name": "python3",
      "display_name": "Python 3"
    },
    "language_info": {
      "name": "python"
    }
  },
  "cells": [
    {
      "cell_type": "markdown",
      "metadata": {
        "id": "view-in-github",
        "colab_type": "text"
      },
      "source": [
        "<a href=\"https://colab.research.google.com/github/rickrdoo/Ejemplo-modelo/blob/main/aventura_python.ipynb\" target=\"_parent\"><img src=\"https://colab.research.google.com/assets/colab-badge.svg\" alt=\"Open In Colab\"/></a>"
      ]
    },
    {
      "cell_type": "code",
      "execution_count": 2,
      "metadata": {
        "colab": {
          "base_uri": "https://localhost:8080/"
        },
        "id": "u8SnMLY81xlS",
        "outputId": "3cba3a8c-8b3d-4b34-8599-89f7b34bb112"
      },
      "outputs": [
        {
          "output_type": "stream",
          "name": "stdout",
          "text": [
            "¡Bienvenido/a a la Isla Python! \n",
            "Tu misión es salir con vida de esta isla resolviendo desafíos con tu conocimiento.\n",
            "Primero dime tu nombre, aventurero/a: ricardo\n",
            "Hola ricardo, has encontrado una entrada misteriosa en una cueva...\n",
            "Para entrar en la cueva, dime tu edad: 31\n",
            "¡Perfecto! Tienes la edad suficiente para entrar. \n",
            "Introduce la palabra mágica para abrir la segunda puerta: Python\n",
            "¡Correcto! La puerta se abre con un chirrido misterioso... \n",
            "Antes de continuar, necesitas saber tu nivel de fuerza.\n",
            "Introduce tu peso en kilogramos: 70\n",
            "Introduce tu altura en metros: 1.75\n",
            "Tu índice de fuerza es: 22.86\n"
          ]
        }
      ],
      "source": [
        "# Aventura con Python: ¡Tu primera misión!\n",
        "print(\"¡Bienvenido/a a la Isla Python! \")\n",
        "print(\"Tu misión es salir con vida de esta isla resolviendo desafíos con tu conocimiento.\")\n",
        "# Paso 1: Variables\n",
        "nombre = input(\"Primero dime tu nombre, aventurero/a: \")\n",
        "print(f\"Hola {nombre}, has encontrado una entrada misteriosa en una cueva...\")\n",
        "# Paso 2: Condicional simple\n",
        "edad = int(input(\"Para entrar en la cueva, dime tu edad: \"))\n",
        "if edad >= 18:\n",
        " print(\"¡Perfecto! Tienes la edad suficiente para entrar. \")\n",
        "else:\n",
        " print(\"Hmm... eres muy joven. La puerta mágica no se abre. \")\n",
        "# Paso 3: Desafío con lógica\n",
        "clave = input(\"Introduce la palabra mágica para abrir la segunda puerta: \")\n",
        "if clave.lower() == \"python\":\n",
        " print(\"¡Correcto! La puerta se abre con un chirrido misterioso... \")\n",
        "else:\n",
        " print(\"La puerta permanece cerrada. ¡Sigue buscando la clave correcta!\")\n",
        "# Paso 4: Función simple\n",
        "def calcular_fuerza(peso, altura):\n",
        " return peso / (altura ** 2)\n",
        "print(\"Antes de continuar, necesitas saber tu nivel de fuerza.\")\n",
        "peso = float(input(\"Introduce tu peso en kilogramos: \"))\n",
        "altura = float(input(\"Introduce tu altura en metros: \"))\n",
        "fuerza = calcular_fuerza(peso, altura)\n",
        "print(f\"Tu índice de fuerza es: {round(fuerza, 2)}\")"
      ]
    },
    {
      "cell_type": "code",
      "source": [
        "# Dragon Ball Z:\n",
        "#¡La Batalla por la Tierra!\n",
        "print(\"¡Bienvenid@, guerrer@ Z!\")\n",
        "print(\"Tu misión es defender la Tierra de una amenaza\") #MENSAGE INICIAL\n",
        "\n",
        "# Paso 1: Variables\n",
        "nombre = input(\"Dime tu nombre, guerrer@: \") #GUARDAMOS EL NOMBRE EN UNA VARIABLE PARA LUEGO PERSONALIZAR EL MSM\n",
        "print(f\"¡Hola {nombre}! Has llegado al Templo Sagrado para entrenar\")\n",
        "\n",
        "# Paso 2: Condicional simple\n",
        "edad = int(input(\"¿Cuántos años tienes? El entrenamiento es muy duro: \")) #GUARDA LA EDAD EN UNA VARIABLE INT\n",
        "if edad >= 15:  #MEDIANTE CONDICIONALES COMPARA LA EDAD\n",
        "    print(\"¡Estás listo para comenzar tu entrenamiento con Goku!\")\n",
        "else:\n",
        "    print(\"Aún eres muy joven, ¡pero puedes entrenar con Krillin por ahora! :) :) \")\n",
        "\n",
        "# Paso 3: Desafío con lógica\n",
        "clave = input(\"Para entrar a la Cámara del Tiempo, responde: ¿Cuál es el nombre del padre de Gohan? \")\n",
        "if clave.lower() == \"goku\": #CON LA FUNCION .LOWER CONVERTIMOS TODO TEXTO A MINUSCULA PARA DESPUES COMPARARLA\n",
        "    print(\"¡Respuesta correcta! Abriendo puertas de la Cámara del Tiempo \")\n",
        "else:\n",
        "    print(\"¡Incorrecto! Tendrás que volver a estudiar la historia de los Saiyajin.\")\n",
        "\n",
        "# Paso 4: Función simple\n",
        "def calcular_ki(poder_base, multiplicador_saiyajin):\n",
        "    return poder_base * multiplicador_saiyajin #SE IMPLEMENTA UNA FUNCION \"DEF\" PARA HACER UNA MULTIPLICACION CON LAS VARIABLES SIGUIENTES\n",
        "\n",
        "print(\"Hora soy vegueta!! es hora de calcular tu nivel de KI insecto XD XD, antes de la batalla final. \")\n",
        "poder_base = float(input(\"Introduce tu poder base en cientos o miles insecto: :) :) XD XD \"))\n",
        "multiplicador = float(input(\"Introduce tu multiplicador Saiyajin (ej. 1.5 para Super Saiyajin): \"))\n",
        "ki = calcular_ki(poder_base, multiplicador)\n",
        "print(f\"¡Tu nivel de KI actual es: {round(ki, 2)}! ¡Prepárate para enfrentar a Freezer!\")"
      ],
      "metadata": {
        "colab": {
          "base_uri": "https://localhost:8080/"
        },
        "id": "cl1zJ8-a4How",
        "outputId": "6f6316f5-78aa-489b-daf8-5d601f240029"
      },
      "execution_count": 4,
      "outputs": [
        {
          "output_type": "stream",
          "name": "stdout",
          "text": [
            "¡Bienvenid@, guerrer@ Z!\n",
            "Tu misión es defender la Tierra de una amenaza\n",
            "Dime tu nombre, guerrer@: RICARDO \n",
            "¡Hola RICARDO ! Has llegado al Templo Sagrado para entrenar\n",
            "¿Cuántos años tienes? El entrenamiento es muy duro: 30\n",
            "¡Estás listo para comenzar tu entrenamiento con Goku!\n",
            "Para entrar a la Cámara del Tiempo, responde: ¿Cuál es el nombre del padre de Gohan? GOKU\n",
            "¡Respuesta correcta! Abriendo puertas de la Cámara del Tiempo \n",
            "Hora soy vegueta!! es hora de calcular tu nivel de KI insecto XD XD, antes de la batalla final. \n",
            "Introduce tu poder base en cientos o miles insecto: :) :) XD XD 100\n",
            "Introduce tu multiplicador Saiyajin (ej. 1.5 para Super Saiyajin): 1\n",
            "¡Tu nivel de KI actual es: 100.0! ¡Prepárate para enfrentar a Freezer! 🥊\n"
          ]
        }
      ]
    }
  ]
}