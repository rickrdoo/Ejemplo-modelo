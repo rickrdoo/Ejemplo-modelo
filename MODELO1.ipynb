{
  "nbformat": 4,
  "nbformat_minor": 0,
  "metadata": {
    "colab": {
      "provenance": [],
      "authorship_tag": "ABX9TyN5xI2p06mMTZ7P+/V449JD",
      "include_colab_link": true
    },
    "kernelspec": {
      "name": "python3",
      "display_name": "Python 3"
    },
    "language_info": {
      "name": "python"
    }
  },
  "cells": [
    {
      "cell_type": "markdown",
      "metadata": {
        "id": "view-in-github",
        "colab_type": "text"
      },
      "source": [
        "<a href=\"https://colab.research.google.com/github/rickrdoo/Ejemplo-modelo/blob/main/MODELO1.ipynb\" target=\"_parent\"><img src=\"https://colab.research.google.com/assets/colab-badge.svg\" alt=\"Open In Colab\"/></a>"
      ]
    },
    {
      "cell_type": "code",
      "execution_count": null,
      "metadata": {
        "colab": {
          "base_uri": "https://localhost:8080/"
        },
        "id": "00ssACjxDO7r",
        "outputId": "cc2f36c0-583a-4e14-bcc7-72cccb2e15d4"
      },
      "outputs": [
        {
          "output_type": "stream",
          "name": "stderr",
          "text": [
            "WARNING:tensorflow:6 out of the last 6 calls to <function TensorFlowTrainer.make_predict_function.<locals>.one_step_on_data_distributed at 0x7fe5c0b22520> triggered tf.function retracing. Tracing is expensive and the excessive number of tracings could be due to (1) creating @tf.function repeatedly in a loop, (2) passing tensors with different shapes, (3) passing Python objects instead of tensors. For (1), please define your @tf.function outside of the loop. For (2), @tf.function has reduce_retracing=True option that can avoid unnecessary retracing. For (3), please refer to https://www.tensorflow.org/guide/function#controlling_retracing and https://www.tensorflow.org/api_docs/python/tf/function for  more details.\n"
          ]
        },
        {
          "output_type": "stream",
          "name": "stdout",
          "text": [
            "\u001b[1m1/1\u001b[0m \u001b[32m━━━━━━━━━━━━━━━━━━━━\u001b[0m\u001b[37m\u001b[0m \u001b[1m0s\u001b[0m 56ms/step\n",
            "Salario estimado para 6 años de experiencia son: 29.76 pesos\n"
          ]
        }
      ],
      "source": [
        "#años de experiencia VS Salario\n",
        "from tensorflow.keras.models import Sequential\n",
        "from tensorflow.keras.layers import Dense\n",
        "import numpy as np\n",
        "\n",
        "x = np.array([[0], [1], [2], [3], [4], [5]])\n",
        "y = np.array([[25,000], [30,000], [35,000], [40,000], [45,000], [50,000]]) #// salario en pesos\n",
        "\n",
        "#//modelo\n",
        "modelo = Sequential()\n",
        "modelo.add(Dense(units=1, input_shape=[1]))\n",
        "modelo.compile(optimizer='sgd', loss='mean_squared_error')\n",
        "modelo.fit(x, y, epochs=200, verbose=0)\n",
        "\n",
        "#// salida\n",
        "print(f\"Salario estimado para 6 años de experiencia son: {modelo.predict(np.array([[6]]))[0][0]:.2f} pesos\")"
      ]
    },
    {
      "cell_type": "markdown",
      "source": [
        "RICARDO PEREZ"
      ],
      "metadata": {
        "id": "WQula8tSDRwP"
      }
    }
  ]
}